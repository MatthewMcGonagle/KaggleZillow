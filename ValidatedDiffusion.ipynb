{
 "cells": [
  {
   "cell_type": "code",
   "execution_count": 61,
   "metadata": {
    "collapsed": true
   },
   "outputs": [],
   "source": [
    "import pandas as pd\n",
    "import numpy as np\n",
    "import seaborn as sns\n",
    "import matplotlib.pyplot as plt\n",
    "from sklearn.neighbors import NearestNeighbors\n",
    "from sklearn import linear_model\n",
    "from sklearn.preprocessing import PolynomialFeatures\n",
    "from sklearn.model_selection import train_test_split"
   ]
  },
  {
   "cell_type": "code",
   "execution_count": 2,
   "metadata": {},
   "outputs": [
    {
     "name": "stderr",
     "output_type": "stream",
     "text": [
      "C:\\Users\\Matthew\\Miniconda3\\lib\\site-packages\\IPython\\core\\interactiveshell.py:2717: DtypeWarning: Columns (22,32,34,49,55) have mixed types. Specify dtype option on import or set low_memory=False.\n",
      "  interactivity=interactivity, compiler=compiler, result=result)\n"
     ]
    }
   ],
   "source": [
    "# Get training property info\n",
    "\n",
    "filename = 'Data/train_2016.csv'\n",
    "trainid_df = pd.read_csv(filename)\n",
    "\n",
    "# Get property info\n",
    "\n",
    "filename = 'Data/properties_2016.csv'\n",
    "properties_df = pd.read_csv(filename)"
   ]
  },
  {
   "cell_type": "code",
   "execution_count": 3,
   "metadata": {
    "collapsed": true
   },
   "outputs": [],
   "source": [
    "# Put respective properties_df info into train_df.\n",
    "\n",
    "properties_df.set_index('parcelid', inplace = True)\n",
    "trainid_df.set_index('parcelid', inplace = True)\n",
    "\n",
    "all_df = trainid_df.join(properties_df)"
   ]
  },
  {
   "cell_type": "code",
   "execution_count": 48,
   "metadata": {
    "collapsed": true
   },
   "outputs": [],
   "source": [
    "# Only use the necessary data.\n",
    "\n",
    "all_df = all_df[['logerror', 'latitude', 'longitude', 'yearbuilt']]\n",
    "all_df = all_df.dropna()\n",
    "\n",
    "npoints = len(all_df.logerror.values)\n",
    "origerror = np.mean(np.abs(all_df.logerror.values))"
   ]
  },
  {
   "cell_type": "code",
   "execution_count": 97,
   "metadata": {
    "collapsed": true
   },
   "outputs": [],
   "source": [
    "# Make function for binning values in an array\n",
    "\n",
    "def makebins(X, nbins = 50):\n",
    "    X2 = X.copy()\n",
    "    maxval = np.amax(X2)\n",
    "    minval = np.amin(X2)\n",
    "    X2 = (X2 - minval) / (maxval - minval) * nbins\n",
    "    X2 = X2.astype(int)\n",
    "    X2 = minval + X2 * (maxval - minval) / nbins\n",
    "    return X2\n",
    "\n",
    "# Make function for bin fit. Assume data in X is already in bins ( so we don't bin year built in the same way).\n",
    "\n",
    "def binfit(X, y, nbins = 10):\n",
    "    nrows, nXcols = X.shape\n",
    "    alldata = np.hstack((X, y))\n",
    "    Xnames = ['X' + str(i) for i in range(nXcols)]\n",
    "    colnames = Xnames + ['y']\n",
    "    new_df = pd.DataFrame(alldata, columns = colnames)\n",
    "    grouped_df = new_df.groupby(Xnames).median()\n",
    "    predictdict = {t : py for t, py in zip(grouped_df.index.values, grouped_df.y.values)}\n",
    "    return predictdict\n",
    "\n",
    "def bintransform(X, y, valdict):\n",
    "    nrows, nXcols = X.shape\n",
    "    ypredict = []\n",
    "    for row in X:\n",
    "        \n",
    "        key = tuple(row)\n",
    "        \n",
    "        # If key isn't present for some reason, then just assume\n",
    "        # the zillow model is correct.\n",
    "        \n",
    "        if key in valdict:\n",
    "            ypredict.append(valdict[key])\n",
    "        else:\n",
    "            ypredict.append(0.0)\n",
    "    \n",
    "    return np.array(ypredict).reshape(-1,1)"
   ]
  },
  {
   "cell_type": "code",
   "execution_count": 98,
   "metadata": {},
   "outputs": [
    {
     "name": "stdout",
     "output_type": "stream",
     "text": [
      "0.0661815424658\n",
      "-0.0252870847278\n"
     ]
    }
   ],
   "source": [
    "# Let's get a benchmark for how well a simple piecewise constant function will perform.\n",
    "\n",
    "tobin = ['latitude', 'longitude']\n",
    "bins = np.zeros((npoints, len(tobin)))\n",
    "\n",
    "for i in range(len(tobin)):\n",
    "    bins[:, i] = makebins(all_df[tobin[i]].values, nbins = 6)\n",
    "    all_df['bin' + str(i)] = bins[:, i]\n",
    "    \n",
    "X = np.hstack((bins, all_df.yearbuilt.values.reshape(-1,1)))\n",
    "    \n",
    "y = all_df.logerror.values.reshape(-1,1)\n",
    "\n",
    "predictdict = binfit(X, y)\n",
    "ypredict = bintransform(X, y, predictdict)\n",
    "\n",
    "yerror = np.abs(ypredict - y)\n",
    "yerror = np.mean(yerror)\n",
    "print(yerror)\n",
    "\n",
    "relerror = (yerror - origerror) / origerror\n",
    "print(relerror)"
   ]
  },
  {
   "cell_type": "code",
   "execution_count": 99,
   "metadata": {},
   "outputs": [
    {
     "name": "stdout",
     "output_type": "stream",
     "text": [
      "For training data\n",
      "0.0662064232254\n",
      "-0.0249206442254\n",
      "For test data\n",
      "0.0674688896336\n",
      "-0.00632720763668\n"
     ]
    }
   ],
   "source": [
    "# Now let's check with validation.\n",
    "\n",
    "X_train, X_test, y_train, y_test = train_test_split(\n",
    "    X, y, test_size = 0.1, random_state = 50)\n",
    "\n",
    "predictdict = binfit(X_train, y_train)\n",
    "\n",
    "# First check results on training data\n",
    "print('For training data')\n",
    "\n",
    "ypredict = bintransform(X_train, y_train, predictdict)\n",
    "yerror = np.abs(ypredict - y_train)\n",
    "yerror = np.mean(yerror)\n",
    "print(yerror)\n",
    "\n",
    "relerror = (yerror - origerror) / origerror\n",
    "print(relerror)\n",
    "\n",
    "# Now validate on testing data.\n",
    "\n",
    "print('For test data')\n",
    "ypredict = bintransform(X_test, y_test, predictdict)\n",
    "\n",
    "yerror = np.abs(ypredict - y_test)\n",
    "yerror = np.mean(yerror)\n",
    "print(yerror)\n",
    "\n",
    "relerror = (yerror - origerror) / origerror\n",
    "print(relerror)"
   ]
  },
  {
   "cell_type": "code",
   "execution_count": 113,
   "metadata": {},
   "outputs": [],
   "source": [
    "# Let's see how training error and testing error depends on the number of bins.\n",
    "\n",
    "tobin = ['latitude', 'longitude']\n",
    "bins = np.zeros((npoints, len(tobin)))\n",
    "setofnbins = range(1,100, 5)\n",
    "\n",
    "errors = {'train' : [], 'test' : []}\n",
    "\n",
    "for nbins in setofnbins:\n",
    "    \n",
    "    for i in range(len(tobin)):\n",
    "        bins[:, i] = makebins(all_df[tobin[i]].values, nbins = nbins)\n",
    "    \n",
    "    X = np.hstack((bins, all_df.yearbuilt.values.reshape(-1,1)))\n",
    "    \n",
    "    X_train, X_test, y_train, y_test = train_test_split(\n",
    "    X, y, test_size = 0.25, random_state = 50)\n",
    "\n",
    "    predictdict = binfit(X_train, y_train)\n",
    "    \n",
    "    # Get training error.\n",
    "    \n",
    "    ypredict = bintransform(X_train, y_train, predictdict)\n",
    "    yerror = np.abs(ypredict - y_train)\n",
    "    yerror = np.mean(yerror)\n",
    "    errors['train'].append(yerror)\n",
    "    \n",
    "    # Get test error.\n",
    "    \n",
    "    ypredict = bintransform(X_test, y_test, predictdict)\n",
    "    yerror = np.abs(ypredict - y_test)\n",
    "    yerror = np.mean(yerror)\n",
    "    errors['test'].append(yerror)\n",
    "        \n",
    "errors = {key : np.array(errors[key]) for key in errors}\n",
    "relerrors = {key : (errors[key] - origerror) /  origerror for key in errors}"
   ]
  },
  {
   "cell_type": "code",
   "execution_count": 114,
   "metadata": {},
   "outputs": [
    {
     "data": {
      "image/png": "[encoded data removed]",
      "text/plain": [
       "<matplotlib.figure.Figure at 0x23546b6a080>"
      ]
     },
     "metadata": {},
     "output_type": "display_data"
    },
    {
     "data": {
      "image/png": "[encoded data removed]",
      "text/plain": [
       "<matplotlib.figure.Figure at 0x2354683f860>"
      ]
     },
     "metadata": {},
     "output_type": "display_data"
    }
   ],
   "source": [
    "# Plot results of training and test error depending on the number of bins.\n",
    "\n",
    "plt.plot(errors['test'], color = 'red')\n",
    "plt.plot(errors['train'])\n",
    "plt.show()\n",
    "\n",
    "plt.plot(relerrors['test'], color = 'red')\n",
    "plt.plot(relerrors['train'])\n",
    "plt.show()"
   ]
  },
  {
   "cell_type": "code",
   "execution_count": null,
   "metadata": {
    "collapsed": true
   },
   "outputs": [],
   "source": []
  }
 ],
 "metadata": {
  "kernelspec": {
   "display_name": "Python 3",
   "language": "python",
   "name": "python3"
  },
  "language_info": {
   "codemirror_mode": {
    "name": "ipython",
    "version": 3
   },
   "file_extension": ".py",
   "mimetype": "text/x-python",
   "name": "python",
   "nbconvert_exporter": "python",
   "pygments_lexer": "ipython3",
   "version": "3.5.2"
  }
 },
 "nbformat": 4,
 "nbformat_minor": 2
}
